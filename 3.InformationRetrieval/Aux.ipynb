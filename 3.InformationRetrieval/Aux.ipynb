{
 "cells": [
  {
   "cell_type": "code",
   "execution_count": 26,
   "metadata": {},
   "outputs": [],
   "source": [
    "# CountVectorizer to create the vector \n",
    "from sklearn.feature_extraction.text import CountVectorizer\n",
    "from sklearn.feature_extraction.text import TfidfVectorizer\n",
    "\n",
    "# Must Libraries\n",
    "import numpy as np\n",
    "import pandas as pd\n",
    "\n",
    "# Tools\n",
    "import re\n",
    "import os.path\n",
    "import sys\n",
    "import pickle"
   ]
  },
  {
   "cell_type": "markdown",
   "metadata": {},
   "source": [
    "## Create Search Pattern for Corpus Words\n",
    "\n",
    "We must make a regex that includes words, punctuation marks, numbers, decimal numbers, percentages, colons, double quotation marks, mathematical symbols."
   ]
  },
  {
   "cell_type": "code",
   "execution_count": 27,
   "metadata": {},
   "outputs": [
    {
     "name": "stdout",
     "output_type": "stream",
     "text": [
      "['¡', 'Hola', '!', 'Este', 'es-un', 'ejemplo', '123', ':', 'de', 'regex', 'para', 'buscar', 'palabras', 'y', 'números', 'como', '45.67', '89.9%', ',', '.', '?', '¿', 'hola']\n"
     ]
    }
   ],
   "source": [
    "oracion = \"¡ Hola ! Este es-un ejemplo 123 : de regex para buscar palabras y números como 45.67 89.9% , . ? ¿ -hola\"\n",
    "\n",
    "# Patrón de regex\n",
    "# [\\w.-]+ sirve palabras, números y palabras compuestas (con guión)\n",
    "# \\d+\\.?\\d*\\%? números decimales\n",
    "regex = r'[\\w.]+-?%?\\w*|\\w+\\n|\\.|\\¿|\\?|:|\\¡|\\!|\\,|\\;'\n",
    "patron = regex\n",
    "resultados = re.findall(patron, oracion)\n",
    "print(resultados)"
   ]
  },
  {
   "cell_type": "code",
   "execution_count": 28,
   "metadata": {},
   "outputs": [
    {
     "data": {
      "text/html": [
       "<div>\n",
       "<style scoped>\n",
       "    .dataframe tbody tr th:only-of-type {\n",
       "        vertical-align: middle;\n",
       "    }\n",
       "\n",
       "    .dataframe tbody tr th {\n",
       "        vertical-align: top;\n",
       "    }\n",
       "\n",
       "    .dataframe thead th {\n",
       "        text-align: right;\n",
       "    }\n",
       "</style>\n",
       "<table border=\"1\" class=\"dataframe\">\n",
       "  <thead>\n",
       "    <tr style=\"text-align: right;\">\n",
       "      <th></th>\n",
       "      <th>Fuente</th>\n",
       "      <th>Título</th>\n",
       "      <th>Contenido</th>\n",
       "      <th>Sección</th>\n",
       "      <th>Url</th>\n",
       "      <th>Fecha</th>\n",
       "      <th>Titulo_Contenido</th>\n",
       "    </tr>\n",
       "  </thead>\n",
       "  <tbody>\n",
       "    <tr>\n",
       "      <th>0</th>\n",
       "      <td>La Jornada</td>\n",
       "      <td>Carlos Fernández-Vega : México SA</td>\n",
       "      <td>Práctica común tiempo campaña     electoral – ...</td>\n",
       "      <td>Economía</td>\n",
       "      <td>https://www.jornada.com.mx/2024/03/04/opinion/...</td>\n",
       "      <td>04/03/2024</td>\n",
       "      <td>Carlos Fernández-Vega : México SA Práctica com...</td>\n",
       "    </tr>\n",
       "    <tr>\n",
       "      <th>1</th>\n",
       "      <td>La Jornada</td>\n",
       "      <td>sector energético , cada cuatro empresa atraíd...</td>\n",
       "      <td>cada cuatro firma haber arribar México relocal...</td>\n",
       "      <td>Economía</td>\n",
       "      <td>https://www.jornada.com.mx/2024/03/04/economia...</td>\n",
       "      <td>04/03/2024</td>\n",
       "      <td>sector energético , cada cuatro empresa atraíd...</td>\n",
       "    </tr>\n",
       "    <tr>\n",
       "      <th>2</th>\n",
       "      <td>La Jornada</td>\n",
       "      <td>2023 , inversión mexicano extranjero disminuir...</td>\n",
       "      <td>año pasado , mexicano invertir 6 mil 429 milló...</td>\n",
       "      <td>Economía</td>\n",
       "      <td>https://www.jornada.com.mx/2024/03/04/economia...</td>\n",
       "      <td>04/03/2024</td>\n",
       "      <td>2023 , inversión mexicano extranjero disminuir...</td>\n",
       "    </tr>\n",
       "    <tr>\n",
       "      <th>3</th>\n",
       "      <td>La Jornada</td>\n",
       "      <td>Enrique Galván Ochoa : Dinero</td>\n",
       "      <td>haber persona interesado     haber rompimiento...</td>\n",
       "      <td>Economía</td>\n",
       "      <td>https://www.jornada.com.mx/2024/03/04/opinion/...</td>\n",
       "      <td>04/03/2024</td>\n",
       "      <td>Enrique Galván Ochoa : Dinero haber persona in...</td>\n",
       "    </tr>\n",
       "    <tr>\n",
       "      <th>4</th>\n",
       "      <td>La Jornada</td>\n",
       "      <td>congresista EU presentar acuerdo financiamient...</td>\n",
       "      <td>Washington . negociador Congreso Estados Unido...</td>\n",
       "      <td>Economía</td>\n",
       "      <td>https://www.jornada.com.mx/2024/03/04/economia...</td>\n",
       "      <td>04/03/2024</td>\n",
       "      <td>congresista EU presentar acuerdo financiamient...</td>\n",
       "    </tr>\n",
       "  </tbody>\n",
       "</table>\n",
       "</div>"
      ],
      "text/plain": [
       "       Fuente                                             Título  \\\n",
       "0  La Jornada                  Carlos Fernández-Vega : México SA   \n",
       "1  La Jornada  sector energético , cada cuatro empresa atraíd...   \n",
       "2  La Jornada  2023 , inversión mexicano extranjero disminuir...   \n",
       "3  La Jornada                      Enrique Galván Ochoa : Dinero   \n",
       "4  La Jornada  congresista EU presentar acuerdo financiamient...   \n",
       "\n",
       "                                           Contenido   Sección  \\\n",
       "0  Práctica común tiempo campaña     electoral – ...  Economía   \n",
       "1  cada cuatro firma haber arribar México relocal...  Economía   \n",
       "2  año pasado , mexicano invertir 6 mil 429 milló...  Economía   \n",
       "3  haber persona interesado     haber rompimiento...  Economía   \n",
       "4  Washington . negociador Congreso Estados Unido...  Economía   \n",
       "\n",
       "                                                 Url       Fecha  \\\n",
       "0  https://www.jornada.com.mx/2024/03/04/opinion/...  04/03/2024   \n",
       "1  https://www.jornada.com.mx/2024/03/04/economia...  04/03/2024   \n",
       "2  https://www.jornada.com.mx/2024/03/04/economia...  04/03/2024   \n",
       "3  https://www.jornada.com.mx/2024/03/04/opinion/...  04/03/2024   \n",
       "4  https://www.jornada.com.mx/2024/03/04/economia...  04/03/2024   \n",
       "\n",
       "                                    Titulo_Contenido  \n",
       "0  Carlos Fernández-Vega : México SA Práctica com...  \n",
       "1  sector energético , cada cuatro empresa atraíd...  \n",
       "2  2023 , inversión mexicano extranjero disminuir...  \n",
       "3  Enrique Galván Ochoa : Dinero haber persona in...  \n",
       "4  congresista EU presentar acuerdo financiamient...  "
      ]
     },
     "execution_count": 28,
     "metadata": {},
     "output_type": "execute_result"
    }
   ],
   "source": [
    "df = pd.read_csv(\"NLP_functions/Corpus.csv\")\n",
    "df[\"Titulo_Contenido\"] = df[\"Título\"].str.cat(df[\"Contenido\"], sep=' ')\n",
    "df.head()"
   ]
  },
  {
   "cell_type": "markdown",
   "metadata": {},
   "source": [
    "### Binarized Unigram CountVectorizer for title"
   ]
  },
  {
   "cell_type": "code",
   "execution_count": 29,
   "metadata": {},
   "outputs": [
    {
     "data": {
      "text/plain": [
       "array([[0, 0, 0, ..., 0, 0, 0],\n",
       "       [0, 1, 0, ..., 0, 0, 0],\n",
       "       [0, 1, 0, ..., 0, 0, 0],\n",
       "       ...,\n",
       "       [0, 0, 0, ..., 0, 0, 0],\n",
       "       [0, 0, 0, ..., 0, 0, 0],\n",
       "       [0, 0, 0, ..., 0, 0, 0]])"
      ]
     },
     "execution_count": 29,
     "metadata": {},
     "output_type": "execute_result"
    }
   ],
   "source": [
    "unigramVocabulary = CountVectorizer(binary=True, token_pattern=regex).fit(df['Título'])\n",
    "unigramMatrix = unigramVocabulary.transform(df['Título'])\n",
    "unigramMatrix.toarray()"
   ]
  },
  {
   "cell_type": "code",
   "execution_count": 30,
   "metadata": {},
   "outputs": [
    {
     "data": {
      "text/plain": [
       "array([[0.        , 0.386663  , 0.41226535, ..., 0.        , 0.        ,\n",
       "        0.        ],\n",
       "       [0.        , 0.45059511, 0.24021532, ..., 0.        , 0.        ,\n",
       "        0.        ],\n",
       "       [0.        , 0.41866121, 0.35710582, ..., 0.        , 0.        ,\n",
       "        0.        ],\n",
       "       ...,\n",
       "       [0.        , 0.29215211, 0.31149655, ..., 0.        , 0.        ,\n",
       "        0.        ],\n",
       "       [0.        , 0.        , 0.38675419, ..., 0.        , 0.        ,\n",
       "        0.        ],\n",
       "       [0.        , 0.        , 0.43490944, ..., 0.        , 0.        ,\n",
       "        0.        ]])"
      ]
     },
     "execution_count": 30,
     "metadata": {},
     "output_type": "execute_result"
    }
   ],
   "source": [
    "vectorizador_tfidf = TfidfVectorizer(token_pattern=regex)\n",
    "\n",
    "#.fit() just returns the vocabulary\n",
    "vocabulary = vectorizador_tfidf.fit(df['Título'])\n",
    "matrix = vocabulary.transform(df['Contenido'])\n",
    "matrix.toarray()"
   ]
  },
  {
   "cell_type": "code",
   "execution_count": 31,
   "metadata": {},
   "outputs": [
    {
     "data": {
      "text/plain": [
       "array(['!', ',', '.', ..., 'él', 'ético', 'éxito'], dtype=object)"
      ]
     },
     "execution_count": 31,
     "metadata": {},
     "output_type": "execute_result"
    }
   ],
   "source": [
    "vectorizador_tfidf.get_feature_names_out()"
   ]
  },
  {
   "cell_type": "code",
   "execution_count": 32,
   "metadata": {},
   "outputs": [
    {
     "name": "stdout",
     "output_type": "stream",
     "text": [
      "3631\n"
     ]
    }
   ],
   "source": [
    "vectorizador = CountVectorizer(binary=True, token_pattern=regex)\n",
    "vectorizador.fit(df[\"Titulo_Contenido\"])\n",
    "print(len(vectorizador.get_feature_names_out()))"
   ]
  },
  {
   "cell_type": "markdown",
   "metadata": {},
   "source": [
    "## File Pickles"
   ]
  },
  {
   "cell_type": "code",
   "execution_count": 33,
   "metadata": {},
   "outputs": [],
   "source": [
    "if (os.path.exists('NLP_functions/pickles_files/title_binary_vocabulary.pkl')):\n",
    "\twith open ('NLP_functions/pickles_files/title_binary_vocabulary.pkl','rb') as pkl_file:\n",
    "\t\tX = pickle.load(pkl_file)\n",
    "else:\n",
    "\twith open ('NLP_functions/pickles_files/title_binary_vocabulary.pkl','wb') as pkl_file:\n",
    "\t\tvectorizador_binario = CountVectorizer(binary=True, token_pattern=regex)\n",
    "\t\tX = vectorizador_binario.fit(df['Título'])\n",
    "\t\tpickle.dump(X, pkl_file)"
   ]
  },
  {
   "cell_type": "code",
   "execution_count": 34,
   "metadata": {},
   "outputs": [
    {
     "name": "stdout",
     "output_type": "stream",
     "text": [
      "['!' ',' '.' ... 'él' 'ético' 'éxito']\n"
     ]
    }
   ],
   "source": [
    "with open ('NLP_functions/pickles_files/title_binary_vocabulary.pkl','rb') as pkl_file:\n",
    "\t\tX = pickle.load(pkl_file)\n",
    "print(X.get_feature_names_out())"
   ]
  }
 ],
 "metadata": {
  "kernelspec": {
   "display_name": "Python 3",
   "language": "python",
   "name": "python3"
  },
  "language_info": {
   "codemirror_mode": {
    "name": "ipython",
    "version": 3
   },
   "file_extension": ".py",
   "mimetype": "text/x-python",
   "name": "python",
   "nbconvert_exporter": "python",
   "pygments_lexer": "ipython3",
   "version": "3.12.0"
  }
 },
 "nbformat": 4,
 "nbformat_minor": 2
}
