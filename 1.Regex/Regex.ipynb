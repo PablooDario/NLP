{
 "cells": [
  {
   "cell_type": "markdown",
   "metadata": {},
   "source": [
    "# Regular Expressions\n",
    "\n",
    "**Objective** \n",
    "Use regular expressions to analyze a dataset with tweets and extract the following elements:\n",
    "- Hashtags\n",
    "- Users\n",
    "- URL's\n",
    "- Time (in any format)\n",
    "- Emoticons in ASCII\n",
    "- Emojis\n",
    "\n",
    "Then print the 10 most common instances for each element"
   ]
  },
  {
   "cell_type": "markdown",
   "metadata": {},
   "source": [
    "## Import Libraries"
   ]
  },
  {
   "cell_type": "code",
   "execution_count": 418,
   "metadata": {},
   "outputs": [],
   "source": [
    "import re"
   ]
  },
  {
   "cell_type": "markdown",
   "metadata": {},
   "source": [
    "## Function to Read CSV and store each tweet in a list"
   ]
  },
  {
   "cell_type": "code",
   "execution_count": 419,
   "metadata": {},
   "outputs": [],
   "source": [
    "def read_csv(path):\n",
    "    with open(path, 'r', encoding='utf-8') as file:\n",
    "        # List to store the tweets\n",
    "        tweets = []\n",
    "\n",
    "        for line in file:\n",
    "            line = line.strip()  # Give some format to the string if have extra blank spaces\n",
    "\n",
    "            if line:  # If the current Tweet is not null or empty\n",
    "                tweets.append(line)\n",
    "\n",
    "    return tweets.copy()"
   ]
  },
  {
   "cell_type": "code",
   "execution_count": 420,
   "metadata": {},
   "outputs": [
    {
     "name": "stdout",
     "output_type": "stream",
     "text": [
      "text\n",
      "termine bien abrumado después de hoy\n",
      "me siento abrumado\n",
      "\"Me siento un poco abrumado por la cantidad de cosas que quiero dibujar, ver, jugar y leer. Odio esta sensación xdddd\"\n",
      "Salvador la única persona que no la ha abrumado de versiones❤😒❤ #NadieComoTú\n"
     ]
    }
   ],
   "source": [
    "# Read the file and store the data\n",
    "tweets = read_csv('tweets.csv')"
   ]
  },
  {
   "cell_type": "markdown",
   "metadata": {},
   "source": [
    "## Find Hashtags\n",
    "\n",
    "The hashtag must meet the following requirements:\n",
    "\n",
    "- Begin with '#'\n",
    "- Can have at least 1 letter, number o underscore\n",
    "- Has no spaces"
   ]
  },
  {
   "cell_type": "code",
   "execution_count": 421,
   "metadata": {},
   "outputs": [
    {
     "name": "stdout",
     "output_type": "stream",
     "text": [
      "Frequency 298\n",
      "#UnidosTodosX --- 26\n",
      "#DeZurdaTeam --- 26\n",
      "#GranHermano --- 21\n",
      "#granhermano --- 9\n",
      "#gelp --- 7\n",
      "#OTDirecto5E --- 4\n",
      "#gh23 --- 4\n",
      "#NadieComoTú --- 3\n",
      "#MicroCuento --- 3\n",
      "#Bailando2023 --- 3\n"
     ]
    }
   ],
   "source": [
    "regex = r'#\\w+'  \n",
    "count = 0\n",
    "# Save the results in a dictionary to count the ocurrences\n",
    "hashtags = dict()\n",
    "\n",
    "for tweet in tweets:\n",
    "    result = re.findall(regex, tweet)\n",
    "    # If a result was found it is stored in the dictionary\n",
    "    if result:\n",
    "        # iterate over the resulting list and store each element\n",
    "        for r in result:\n",
    "            count += 1\n",
    "            # if the hashtag is in the dictionary increase the frequency by one\n",
    "            if r in hashtags:\n",
    "                hashtags[r] += 1\n",
    "            # store the element with frequency 1\n",
    "            else:\n",
    "                hashtags[r] = 1\n",
    "                \n",
    "# Sort the dictionary in descent order by value or frequency of hashtag\n",
    "hashtags = dict(sorted(hashtags.items(), key=lambda item: item[1], reverse=True))\n",
    "\n",
    "\n",
    "print(f'Frequency {count}')\n",
    "# Iterate over the first 10 elements of the dictionary\n",
    "for i, (key, value) in enumerate(hashtags.items()):\n",
    "    if i < 10:\n",
    "        print(f\"{key} --- {value}\")\n",
    "    else:\n",
    "        break"
   ]
  },
  {
   "cell_type": "markdown",
   "metadata": {},
   "source": [
    "## Find Users\n",
    "\n",
    "The user string must meet almost the same requirements as hashtags:\n",
    "\n",
    "- Begin with '@'\n",
    "- Can have at least 1 letter, number o underscore\n",
    "- Has no spaces"
   ]
  },
  {
   "cell_type": "code",
   "execution_count": 422,
   "metadata": {},
   "outputs": [
    {
     "name": "stdout",
     "output_type": "stream",
     "text": [
      "Frequency 194\n",
      "@petrogustavo ---- 7\n",
      "@DeZurdaTeam_ ---- 6\n",
      "@JMilei ---- 4\n",
      "@biobio ---- 3\n",
      "@radiocarab ---- 3\n",
      "@TTISantiago ---- 3\n",
      "@mop_chile ---- 3\n",
      "@mop_rm ---- 3\n",
      "@MabelLaraNews ---- 2\n",
      "@_somosmadrid ---- 2\n"
     ]
    }
   ],
   "source": [
    "regex = r'@\\w+'  \n",
    "count = 0\n",
    "users = dict()\n",
    "\n",
    "for user in tweets:\n",
    "    result = re.findall(regex, user)\n",
    "    # If a result was found it is stored in the dictionary\n",
    "    if result:\n",
    "        # iterate over the resulting list and store each element\n",
    "        for r in result:\n",
    "            count += 1\n",
    "            if r in users:\n",
    "                users[r] += 1\n",
    "            # store the element with frequency 1\n",
    "            else:\n",
    "                users[r] = 1\n",
    "                 \n",
    "users = dict(sorted(users.items(), key=lambda item: item[1], reverse=True))\n",
    "\n",
    "print(f'Frequency {count}')\n",
    "for i, (key, value) in enumerate(users.items()):\n",
    "    if i < 10:\n",
    "        print(f\"{key} ---- {value}\")\n",
    "    else:\n",
    "        break"
   ]
  },
  {
   "cell_type": "markdown",
   "metadata": {},
   "source": [
    "## URLs\n",
    "\n",
    "We will look for urls that have an explicit protocol, so they must meet the following requirements:\n",
    "\n",
    "- Begin with 'http'\n",
    "- May or may not have 1 's' after 'http'\n",
    "- After the protocol must have '://'\n",
    "- After the '://' can have any other character\n",
    "\n",
    "Since the regex range method works with ascii we will make use of this knowledge to search from # to ~ in ascci"
   ]
  },
  {
   "cell_type": "code",
   "execution_count": 423,
   "metadata": {},
   "outputs": [
    {
     "name": "stdout",
     "output_type": "stream",
     "text": [
      "Frequency 8\n",
      "https://www.eldiario.es/1_a4fa72?utm_campaign=botonera-share&utm_medium=social&utm_source=twitter ---- 2\n",
      "https://elfaro.net/es/202312/columnas/27191/el-voto-de-la-frustracion-gano-el-tour-electoral-de-2023 ---- 1\n",
      "https://www.youtube.com/watch?v=1QvBbg38UY8&ab_channel=ElMostrador ---- 1\n",
      "https://nitter.perennialte.ch/MaxKaiser75/status/1743261455326007754/video/1 ---- 1\n",
      "https://signal.group/#CjQKIAL1PfYMtji-3OMw24eFifKyZSI9bNbHpdvfWONAMrnvEhAgxrDIgXSX8-35VZTa6H_n ---- 1\n",
      "https://t.me/tierrasant ---- 1\n",
      "https://twitter.com/MaxKaiser75/status/1743261455326007754/video/1 ---- 1\n"
     ]
    }
   ],
   "source": [
    "regex = r'https?://[!#-~]+'\n",
    "count = 0\n",
    "users = dict()\n",
    "\n",
    "for user in tweets:\n",
    "    result = re.findall(regex, user)\n",
    "    if result:\n",
    "        for r in result:\n",
    "            count += 1\n",
    "            if r in users:\n",
    "                users[r] += 1\n",
    "            else:\n",
    "                users[r] = 1\n",
    "                \n",
    "# Sort the dictionary in descent order by value or frequencey\n",
    "users = dict(sorted(users.items(), key=lambda item: item[1], reverse=True))\n",
    "\n",
    "print(f'Frequency {count}')\n",
    "# Iterate over the first 10 elements of the dictionary\n",
    "for i, (key, value) in enumerate(users.items()):\n",
    "    if i < 10:\n",
    "        print(f\"{key} ---- {value}\")\n",
    "    else:\n",
    "        break"
   ]
  },
  {
   "cell_type": "markdown",
   "metadata": {},
   "source": [
    "## Time \n",
    "\n",
    "- Must begin with a number \n",
    "- Can be in these formats:\n",
    "    - 00:00\n",
    "    - 00 am\n",
    "    - 00 pm\n",
    "    - 00 hrs"
   ]
  },
  {
   "cell_type": "code",
   "execution_count": 424,
   "metadata": {},
   "outputs": [
    {
     "name": "stdout",
     "output_type": "stream",
     "text": [
      "Frequency 14\n",
      "23:58 ---- 4\n",
      "17:45 ---- 3\n",
      "11:11 ---- 2\n",
      "10 pm ---- 2\n",
      "24 horas ---- 1\n",
      "12 horas ---- 1\n",
      "00:01 ---- 1\n"
     ]
    }
   ],
   "source": [
    "# un número de 1 a 2 dígitos, dos puntos, un número de dos dígitos, espacio (cero o más)\n",
    "regex = r'([1]\\d|00|[2][0-4])(:[0-5]\\d)?(\\s?horas)?(\\s?[ap]m)?'\n",
    "count = 0\n",
    "\n",
    "# Save the results in a dictionary to count the ocurrences\n",
    "time = dict()\n",
    "\n",
    "for tweet in tweets:\n",
    "    result = re.search(regex, tweet)\n",
    "    # If a result was found then validate it\n",
    "    if result:\n",
    "        string = str(result.group())\n",
    "        # If the result has more than 2 characters (if there are not simple numbers like 23 or 1)\n",
    "        if len(string) > 2:\n",
    "            count += 1\n",
    "            if string in time:\n",
    "                time[string] += 1\n",
    "            # store the element with frequency 1\n",
    "            else:\n",
    "                time[string] = 1\n",
    "   \n",
    "time = dict(sorted(time.items(), key=lambda item: item[1], reverse=True))\n",
    "\n",
    "print(f'Frequency {count}')\n",
    "# Iterate over the first 10 elements of the dictionary\n",
    "for i, (key, value) in enumerate(time.items()):\n",
    "    if i < 10:\n",
    "        print(f\"{key} ---- {value}\")\n",
    "    else:\n",
    "        break\n"
   ]
  },
  {
   "cell_type": "markdown",
   "metadata": {},
   "source": [
    "## Emoticons in ASCII\n",
    "\n",
    "- Can have the eyes before of after the face\n",
    "- The faces can be:\n",
    "    - : p\n",
    "    - :\\)\n",
    "    - :\\(\n",
    "    - :D"
   ]
  },
  {
   "cell_type": "code",
   "execution_count": 425,
   "metadata": {},
   "outputs": [
    {
     "name": "stdout",
     "output_type": "stream",
     "text": [
      "Frequency 14\n",
      ":) ---- 4\n",
      "): ---- 4\n",
      ":))) ---- 2\n",
      ":( ---- 2\n",
      ":)) ---- 1\n",
      ":pp ---- 1\n"
     ]
    }
   ],
   "source": [
    "regex = r':?[\\)\\(pD]+:?'\n",
    "emoticons = dict()\n",
    "count = 0\n",
    "\n",
    "for tweet in tweets:\n",
    "    result = re.findall(regex, tweet)\n",
    "    # If a result was found it is stored in the dictionary\n",
    "    if result:\n",
    "        # iterate over the resulting list and store each element\n",
    "        for r in result:\n",
    "            if r[0] == ':' or r[-1] == ':':\n",
    "                count += 1\n",
    "                if r in emoticons:\n",
    "                    emoticons[r] += 1\n",
    "                # store the element with frequency 1\n",
    "                else:\n",
    "                    emoticons[r] = 1\n",
    "                \n",
    "# Sort the dictionary in descent order by value or frequency\n",
    "emoticons = dict(sorted(emoticons.items(), key=lambda item: item[1], reverse=True))\n",
    "\n",
    "print(f'Frequency {count}')\n",
    "# Iterate over the first 10 elements of the dictionary\n",
    "for i, (key, value) in enumerate(emoticons.items()):\n",
    "    if i < 10:\n",
    "        print(f\"{key} ---- {value}\")\n",
    "    else:\n",
    "        break"
   ]
  },
  {
   "cell_type": "markdown",
   "metadata": {},
   "source": [
    "## Emojis \n",
    "\n",
    "Find all the possible emojis like 😀"
   ]
  },
  {
   "cell_type": "code",
   "execution_count": 433,
   "metadata": {},
   "outputs": [
    {
     "name": "stdout",
     "output_type": "stream",
     "text": [
      "Frequency 502\n",
      "❤️ --- 28\n",
      "😭😭 --- 18\n",
      "🙏🏻 --- 12\n",
      "‍♀ --- 9\n",
      "‍♂ --- 7\n",
      "🫶🏻 --- 7\n",
      "‍💫 --- 6\n",
      "🤷😂 --- 6\n",
      "\"⠀ --- 6\n",
      "⚽⚽ --- 6\n"
     ]
    }
   ],
   "source": [
    "regex = r'[^ ][\\u263a-\\U0001f645]'\n",
    "count = 0\n",
    "emojis = dict()\n",
    "\n",
    "for tweet in tweets:\n",
    "    result = re.findall(regex, tweet)\n",
    "    # If a result was found it is stored in the dictionary\n",
    "    if result:\n",
    "        # iterate over the resulting list and store each element\n",
    "        for r in result:\n",
    "            count += 1\n",
    "            # if the hashtag is in the dictionary increase the frequency by one\n",
    "            if r in emojis:\n",
    "                emojis[r] += 1\n",
    "            # store the element with frequency 1\n",
    "            else:\n",
    "                emojis[r] = 1\n",
    "                \n",
    "# Sort the dictionary in descent order by value or frequencey of hashtag\n",
    "emojis = dict(sorted(emojis.items(), key=lambda item: item[1], reverse=True))\n",
    "\n",
    "print(f'Frequency {count}')\n",
    "# Iterate over the first 10 elements of the dictionary\n",
    "for i, (key, value) in enumerate(emojis.items()):\n",
    "    if i < 10:\n",
    "        print(f\"{key} --- {value}\")\n",
    "    else:\n",
    "        break"
   ]
  }
 ],
 "metadata": {
  "kernelspec": {
   "display_name": "Python 3",
   "language": "python",
   "name": "python3"
  },
  "language_info": {
   "codemirror_mode": {
    "name": "ipython",
    "version": 3
   },
   "file_extension": ".py",
   "mimetype": "text/x-python",
   "name": "python",
   "nbconvert_exporter": "python",
   "pygments_lexer": "ipython3",
   "version": "3.12.0"
  }
 },
 "nbformat": 4,
 "nbformat_minor": 2
}
