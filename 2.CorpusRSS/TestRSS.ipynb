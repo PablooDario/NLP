{
  "cells": [
    {
      "cell_type": "markdown",
      "metadata": {},
      "source": [
        "## Import all the libraries "
      ]
    },
    {
      "cell_type": "code",
      "execution_count": 1,
      "metadata": {
        "colab": {
          "base_uri": "https://localhost:8080/",
          "height": 1000
        },
        "id": "xt2yWQMLJydt",
        "outputId": "247eaf9d-7451-46cb-e691-7cf0fb388e0c"
      },
      "outputs": [
        {
          "name": "stderr",
          "output_type": "stream",
          "text": [
            "/Library/Frameworks/Python.framework/Versions/3.12/lib/python3.12/site-packages/tqdm/auto.py:21: TqdmWarning: IProgress not found. Please update jupyter and ipywidgets. See https://ipywidgets.readthedocs.io/en/stable/user_install.html\n",
            "  from .autonotebook import tqdm as notebook_tqdm\n"
          ]
        }
      ],
      "source": [
        "import stanza\n",
        "from csv import DictWriter\n",
        "import pandas as pd"
      ]
    },
    {
      "cell_type": "markdown",
      "metadata": {},
      "source": [
        "## Read the raw CSV"
      ]
    },
    {
      "cell_type": "code",
      "execution_count": 2,
      "metadata": {},
      "outputs": [
        {
          "data": {
            "text/html": [
              "<div>\n",
              "<style scoped>\n",
              "    .dataframe tbody tr th:only-of-type {\n",
              "        vertical-align: middle;\n",
              "    }\n",
              "\n",
              "    .dataframe tbody tr th {\n",
              "        vertical-align: top;\n",
              "    }\n",
              "\n",
              "    .dataframe thead th {\n",
              "        text-align: right;\n",
              "    }\n",
              "</style>\n",
              "<table border=\"1\" class=\"dataframe\">\n",
              "  <thead>\n",
              "    <tr style=\"text-align: right;\">\n",
              "      <th></th>\n",
              "      <th>Source</th>\n",
              "      <th>Title</th>\n",
              "      <th>Content</th>\n",
              "      <th>Section</th>\n",
              "      <th>URL</th>\n",
              "      <th>Date</th>\n",
              "    </tr>\n",
              "  </thead>\n",
              "  <tbody>\n",
              "    <tr>\n",
              "      <th>0</th>\n",
              "      <td>La Jornada</td>\n",
              "      <td>Una plata y dos bronces para mexicanos en la C...</td>\n",
              "      <td>A 146 días de que comiencen los Juegos Olímpic...</td>\n",
              "      <td>Sports</td>\n",
              "      <td>https://www.jornada.com.mx/2024/03/03/deportes...</td>\n",
              "      <td>3/3/2024</td>\n",
              "    </tr>\n",
              "    <tr>\n",
              "      <th>1</th>\n",
              "      <td>La Jornada</td>\n",
              "      <td>Sergio Pérez arranca la temporada  con podio e...</td>\n",
              "      <td>El mexicano Sergio Pérez constató que se ha co...</td>\n",
              "      <td>Sports</td>\n",
              "      <td>https://www.jornada.com.mx/2024/03/03/deportes...</td>\n",
              "      <td>3/3/2024</td>\n",
              "    </tr>\n",
              "    <tr>\n",
              "      <th>2</th>\n",
              "      <td>La Jornada</td>\n",
              "      <td>El torneo dejó claro que Acapulco está de pie:...</td>\n",
              "      <td>Acapulco, Gro., El Abierto Mexicano de Tenis “...</td>\n",
              "      <td>Sports</td>\n",
              "      <td>https://www.jornada.com.mx/2024/03/03/deportes...</td>\n",
              "      <td>3/3/2024</td>\n",
              "    </tr>\n",
              "    <tr>\n",
              "      <th>3</th>\n",
              "      <td>La Jornada</td>\n",
              "      <td>Lista para votarse, ley de salario base en el ...</td>\n",
              "      <td>Las reformas a la Ley Federal del Trabajo (LFT...</td>\n",
              "      <td>Sports</td>\n",
              "      <td>https://www.jornada.com.mx/2024/03/03/deportes...</td>\n",
              "      <td>3/3/2024</td>\n",
              "    </tr>\n",
              "    <tr>\n",
              "      <th>4</th>\n",
              "      <td>La Jornada</td>\n",
              "      <td>América humilla 5-1 a domicilio al Atlas</td>\n",
              "      <td>Pese a fallar un penal, el América logró remon...</td>\n",
              "      <td>Sports</td>\n",
              "      <td>https://www.jornada.com.mx/2024/03/03/deportes...</td>\n",
              "      <td>3/3/2024</td>\n",
              "    </tr>\n",
              "  </tbody>\n",
              "</table>\n",
              "</div>"
            ],
            "text/plain": [
              "       Source                                              Title  \\\n",
              "0  La Jornada  Una plata y dos bronces para mexicanos en la C...   \n",
              "1  La Jornada  Sergio Pérez arranca la temporada  con podio e...   \n",
              "2  La Jornada  El torneo dejó claro que Acapulco está de pie:...   \n",
              "3  La Jornada  Lista para votarse, ley de salario base en el ...   \n",
              "4  La Jornada           América humilla 5-1 a domicilio al Atlas   \n",
              "\n",
              "                                             Content Section  \\\n",
              "0  A 146 días de que comiencen los Juegos Olímpic...  Sports   \n",
              "1  El mexicano Sergio Pérez constató que se ha co...  Sports   \n",
              "2  Acapulco, Gro., El Abierto Mexicano de Tenis “...  Sports   \n",
              "3  Las reformas a la Ley Federal del Trabajo (LFT...  Sports   \n",
              "4  Pese a fallar un penal, el América logró remon...  Sports   \n",
              "\n",
              "                                                 URL      Date  \n",
              "0  https://www.jornada.com.mx/2024/03/03/deportes...  3/3/2024  \n",
              "1  https://www.jornada.com.mx/2024/03/03/deportes...  3/3/2024  \n",
              "2  https://www.jornada.com.mx/2024/03/03/deportes...  3/3/2024  \n",
              "3  https://www.jornada.com.mx/2024/03/03/deportes...  3/3/2024  \n",
              "4  https://www.jornada.com.mx/2024/03/03/deportes...  3/3/2024  "
            ]
          },
          "execution_count": 2,
          "metadata": {},
          "output_type": "execute_result"
        }
      ],
      "source": [
        "raw_df = pd.read_csv(\"raw_data_corpus.csv\")\n",
        "raw_df.head()"
      ]
    },
    {
      "cell_type": "markdown",
      "metadata": {},
      "source": [
        "## Read the Normalized DataSet"
      ]
    },
    {
      "cell_type": "code",
      "execution_count": 3,
      "metadata": {},
      "outputs": [
        {
          "name": "stderr",
          "output_type": "stream",
          "text": [
            "Downloading https://raw.githubusercontent.com/stanfordnlp/stanza-resources/main/resources_1.8.0.json: 373kB [00:00, 10.4MB/s]                    \n",
            "2024-03-08 22:27:26 INFO: Downloaded file to /Users/k-dot/stanza_resources/resources.json\n",
            "2024-03-08 22:27:26 INFO: Downloading default packages for language: es (Spanish) ...\n",
            "2024-03-08 22:27:27 INFO: File exists: /Users/k-dot/stanza_resources/es/default.zip\n",
            "2024-03-08 22:27:29 INFO: Finished downloading models and saved to /Users/k-dot/stanza_resources\n",
            "2024-03-08 22:27:29 INFO: Checking for updates to resources.json in case models have been updated.  Note: this behavior can be turned off with download_method=None or download_method=DownloadMethod.REUSE_RESOURCES\n",
            "Downloading https://raw.githubusercontent.com/stanfordnlp/stanza-resources/main/resources_1.8.0.json: 373kB [00:00, 6.87MB/s]                    \n",
            "2024-03-08 22:27:30 INFO: Downloaded file to /Users/k-dot/stanza_resources/resources.json\n",
            "2024-03-08 22:27:31 INFO: Loading these models for language: es (Spanish):\n",
            "==================================\n",
            "| Processor    | Package         |\n",
            "----------------------------------\n",
            "| tokenize     | ancora          |\n",
            "| mwt          | ancora          |\n",
            "| pos          | ancora_charlm   |\n",
            "| lemma        | ancora_nocharlm |\n",
            "| constituency | combined_charlm |\n",
            "| depparse     | ancora_charlm   |\n",
            "| sentiment    | tass2020_charlm |\n",
            "| ner          | conll02         |\n",
            "==================================\n",
            "\n",
            "2024-03-08 22:27:31 INFO: Using device: cpu\n",
            "2024-03-08 22:27:31 INFO: Loading: tokenize\n",
            "2024-03-08 22:27:31 INFO: Loading: mwt\n",
            "2024-03-08 22:27:32 INFO: Loading: pos\n",
            "2024-03-08 22:27:32 INFO: Loading: lemma\n",
            "2024-03-08 22:27:32 INFO: Loading: constituency\n",
            "2024-03-08 22:27:32 INFO: Loading: depparse\n",
            "2024-03-08 22:27:32 INFO: Loading: sentiment\n",
            "2024-03-08 22:27:32 INFO: Loading: ner\n",
            "2024-03-08 22:27:33 INFO: Done loading processors!\n"
          ]
        }
      ],
      "source": [
        "stanza.download ('es')\n",
        "nlp = stanza.Pipeline('es')\n",
        "stop_words = ['DET', 'ADP', 'CCONJ', 'SCONJ', 'PRON']\n",
        "\n",
        "titles= []\n",
        "for t in raw_df['Title']:\n",
        "    doc = nlp(t)\n",
        "    title = ''\n",
        "    for sent in doc.sentences:\n",
        "        for token in sent.words:\n",
        "            if token.pos in stop_words:\n",
        "                continue\n",
        "            if title == '':\n",
        "                title += token.lemma.capitalize()\n",
        "            else:\n",
        "                title += ' ' + token.lemma\n",
        "    title.lstrip()\n",
        "    titles.append(title)"
      ]
    },
    {
      "cell_type": "code",
      "execution_count": null,
      "metadata": {},
      "outputs": [],
      "source": [
        "contents= []\n",
        "for c in raw_df['Content']:\n",
        "    if isinstance(c, str):\n",
        "        doc = nlp(c)\n",
        "        content = ''\n",
        "        for sent in doc.sentences:\n",
        "            for token in sent.words:\n",
        "                if token.pos in stop_words:\n",
        "                    continue\n",
        "                if content == '':\n",
        "                    content += token.lemma.capitalize()\n",
        "                else:\n",
        "                    content += ' ' + token.lemma  \n",
        "    else:\n",
        "        content = ''\n",
        "    content.lstrip()\n",
        "    contents.append(content)"
      ]
    },
    {
      "cell_type": "code",
      "execution_count": null,
      "metadata": {},
      "outputs": [],
      "source": [
        "with open('normalized_data_corpus.csv', mode='w', newline='', encoding='utf-8') as csv_file:\n",
        "        fields = [\"Source\", \"Title\", \"Content\", \"Section\", \"URL\", \"Date\"]\n",
        "        writer = DictWriter(csv_file, fieldnames=fields)\n",
        "        writer.writeheader()\n",
        "        for row in range(raw_df.shape[0]):\n",
        "            rows = []\n",
        "            for i, content in enumerate(raw_df.iloc[row]) :\n",
        "                if i == 1:\n",
        "                    rows.append(titles[row])\n",
        "                elif i ==2:\n",
        "                    rows.append(contents[row])\n",
        "                else:\n",
        "                    rows.append(content)\n",
        "            writer.writerow({\"Source\": rows[0], \"Title\": rows[1], \"Content\": rows[2], \"Section\": rows[3], \"URL\": rows[4], 'Date': rows[5]})"
      ]
    },
    {
      "cell_type": "code",
      "execution_count": 65,
      "metadata": {},
      "outputs": [
        {
          "data": {
            "text/html": [
              "<div>\n",
              "<style scoped>\n",
              "    .dataframe tbody tr th:only-of-type {\n",
              "        vertical-align: middle;\n",
              "    }\n",
              "\n",
              "    .dataframe tbody tr th {\n",
              "        vertical-align: top;\n",
              "    }\n",
              "\n",
              "    .dataframe thead th {\n",
              "        text-align: right;\n",
              "    }\n",
              "</style>\n",
              "<table border=\"1\" class=\"dataframe\">\n",
              "  <thead>\n",
              "    <tr style=\"text-align: right;\">\n",
              "      <th></th>\n",
              "      <th>Source</th>\n",
              "      <th>Title</th>\n",
              "      <th>Content</th>\n",
              "      <th>Section</th>\n",
              "      <th>URL</th>\n",
              "      <th>Date</th>\n",
              "    </tr>\n",
              "  </thead>\n",
              "  <tbody>\n",
              "    <tr>\n",
              "      <th>0</th>\n",
              "      <td>La Jornada</td>\n",
              "      <td>Plata dos bronce mexicano Copa Mundial Clavados</td>\n",
              "      <td>146 día comencar Juegos Olímpicos , clavadista...</td>\n",
              "      <td>Sports</td>\n",
              "      <td>https://www.jornada.com.mx/2024/03/03/deportes...</td>\n",
              "      <td>3/3/2024</td>\n",
              "    </tr>\n",
              "    <tr>\n",
              "      <th>1</th>\n",
              "      <td>La Jornada</td>\n",
              "      <td>Sergio Pérez arrancar temporada podio Baréin ;...</td>\n",
              "      <td>Mexicano Sergio Pérez constatar haber converti...</td>\n",
              "      <td>Sports</td>\n",
              "      <td>https://www.jornada.com.mx/2024/03/03/deportes...</td>\n",
              "      <td>3/3/2024</td>\n",
              "    </tr>\n",
              "    <tr>\n",
              "      <th>2</th>\n",
              "      <td>La Jornada</td>\n",
              "      <td>Torneo dejar claro Acapulco estar pie : Falla</td>\n",
              "      <td>Acapulco , Gro. , Abierto Mexicano Tenis \" val...</td>\n",
              "      <td>Sports</td>\n",
              "      <td>https://www.jornada.com.mx/2024/03/03/deportes...</td>\n",
              "      <td>3/3/2024</td>\n",
              "    </tr>\n",
              "    <tr>\n",
              "      <th>3</th>\n",
              "      <td>La Jornada</td>\n",
              "      <td>Lista votar , ley salario base deporte</td>\n",
              "      <td>Reforma Ley Federal Trabajo ( LFT ) , fin gara...</td>\n",
              "      <td>Sports</td>\n",
              "      <td>https://www.jornada.com.mx/2024/03/03/deportes...</td>\n",
              "      <td>3/3/2024</td>\n",
              "    </tr>\n",
              "    <tr>\n",
              "      <th>4</th>\n",
              "      <td>La Jornada</td>\n",
              "      <td>América humillar 5-1 domicilio Atlas</td>\n",
              "      <td>Pese fallar penal , América lograr remontar ma...</td>\n",
              "      <td>Sports</td>\n",
              "      <td>https://www.jornada.com.mx/2024/03/03/deportes...</td>\n",
              "      <td>3/3/2024</td>\n",
              "    </tr>\n",
              "  </tbody>\n",
              "</table>\n",
              "</div>"
            ],
            "text/plain": [
              "       Source                                              Title  \\\n",
              "0  La Jornada    Plata dos bronce mexicano Copa Mundial Clavados   \n",
              "1  La Jornada  Sergio Pérez arrancar temporada podio Baréin ;...   \n",
              "2  La Jornada      Torneo dejar claro Acapulco estar pie : Falla   \n",
              "3  La Jornada             Lista votar , ley salario base deporte   \n",
              "4  La Jornada               América humillar 5-1 domicilio Atlas   \n",
              "\n",
              "                                             Content Section  \\\n",
              "0  146 día comencar Juegos Olímpicos , clavadista...  Sports   \n",
              "1  Mexicano Sergio Pérez constatar haber converti...  Sports   \n",
              "2  Acapulco , Gro. , Abierto Mexicano Tenis \" val...  Sports   \n",
              "3  Reforma Ley Federal Trabajo ( LFT ) , fin gara...  Sports   \n",
              "4  Pese fallar penal , América lograr remontar ma...  Sports   \n",
              "\n",
              "                                                 URL      Date  \n",
              "0  https://www.jornada.com.mx/2024/03/03/deportes...  3/3/2024  \n",
              "1  https://www.jornada.com.mx/2024/03/03/deportes...  3/3/2024  \n",
              "2  https://www.jornada.com.mx/2024/03/03/deportes...  3/3/2024  \n",
              "3  https://www.jornada.com.mx/2024/03/03/deportes...  3/3/2024  \n",
              "4  https://www.jornada.com.mx/2024/03/03/deportes...  3/3/2024  "
            ]
          },
          "execution_count": 65,
          "metadata": {},
          "output_type": "execute_result"
        }
      ],
      "source": [
        "normalized_df = pd.read_csv(\"normalized_data_corpus.csv\")\n",
        "normalized_df.head()"
      ]
    }
  ],
  "metadata": {
    "colab": {
      "provenance": []
    },
    "kernelspec": {
      "display_name": "Python 3",
      "name": "python3"
    },
    "language_info": {
      "codemirror_mode": {
        "name": "ipython",
        "version": 3
      },
      "file_extension": ".py",
      "mimetype": "text/x-python",
      "name": "python",
      "nbconvert_exporter": "python",
      "pygments_lexer": "ipython3",
      "version": "3.12.0"
    }
  },
  "nbformat": 4,
  "nbformat_minor": 0
}
